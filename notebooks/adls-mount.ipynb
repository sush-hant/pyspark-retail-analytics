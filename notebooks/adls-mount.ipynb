{
 "cells": [
  {
   "cell_type": "code",
   "execution_count": 0,
   "metadata": {
    "application/vnd.databricks.v1+cell": {
     "cellMetadata": {
      "byteLimit": 2048000,
      "rowLimit": 10000
     },
     "inputWidgets": {},
     "nuid": "94636316-2566-48b3-a1e6-72a4ebefa89c",
     "showTitle": false,
     "tableResultSettingsMap": {},
     "title": ""
    }
   },
   "outputs": [
    {
     "output_type": "stream",
     "name": "stdout",
     "output_type": "stream",
     "text": [
      "Mounted raw\nMounted processed\n"
     ]
    }
   ],
   "source": [
    "\n",
    "storageAccountName = 'dlretaildatadev'\n",
    "storageAccountAccessKeys = dbutils.secrets.get('retail-data-access-keys', 'dl-dev-access-keys')\n",
    "mountPoints = ['raw','processed']\n",
    "for mp in mountPoints:\n",
    "    if not any(mount.mountPoint == f\"/mnt/{mp}\" for mount in dbutils.fs.mounts()):\n",
    "        try:\n",
    "            dbutils.fs.mount(\n",
    "                source=f\"wasbs://{mp}@{storageAccountName}.blob.core.windows.net\",\n",
    "                mount_point=f\"/mnt/{mp}\",\n",
    "                extra_configs={f\"fs.azure.account.key.{storageAccountName}.blob.core.windows.net\": storageAccountAccessKeys})\n",
    "            print(f\"Mounted {mp}\")\n",
    "        except Exception as e:\n",
    "            print(f\"Failed to mount {mp}: {e}\")\n"
   ]
  },
  {
   "cell_type": "code",
   "execution_count": 0,
   "metadata": {
    "application/vnd.databricks.v1+cell": {
     "cellMetadata": {
      "byteLimit": 2048000,
      "rowLimit": 10000
     },
     "inputWidgets": {},
     "nuid": "c1690a96-0694-46c9-b1f0-770491172df3",
     "showTitle": false,
     "tableResultSettingsMap": {},
     "title": ""
    }
   },
   "outputs": [
    {
     "output_type": "execute_result",
     "data": {
      "text/plain": [
       "[FileInfo(path='dbfs:/mnt/raw/online_retail_II.csv', name='online_retail_II.csv', size=45622278, modificationTime=1745858084000)]"
      ]
     },
     "execution_count": 5,
     "metadata": {},
     "output_type": "execute_result"
    }
   ],
   "source": [
    "dbutils.fs.ls('/mnt/raw')"
   ]
  },
  {
   "cell_type": "code",
   "execution_count": 0,
   "metadata": {
    "application/vnd.databricks.v1+cell": {
     "cellMetadata": {},
     "inputWidgets": {},
     "nuid": "9f9fc07e-f28d-4fd4-9e1f-dc728dded1f0",
     "showTitle": false,
     "tableResultSettingsMap": {},
     "title": ""
    }
   },
   "outputs": [],
   "source": []
  }
 ],
 "metadata": {
  "application/vnd.databricks.v1+notebook": {
   "computePreferences": null,
   "dashboards": [],
   "environmentMetadata": {
    "base_environment": "",
    "environment_version": "2"
   },
   "inputWidgetPreferences": null,
   "language": "python",
   "notebookMetadata": {
    "pythonIndentUnit": 4
   },
   "notebookName": "adls-mount",
   "widgets": {}
  },
  "language_info": {
   "name": "python"
  }
 },
 "nbformat": 4,
 "nbformat_minor": 0
}